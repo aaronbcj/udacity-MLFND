{
 "cells": [
  {
   "cell_type": "markdown",
   "metadata": {},
   "source": [
    "# Machine Learning Foundation Nanodegree 2018-2019\n",
    "## Project 2: Test a Perceptual Phenomenon (Descriptive Statistics)\n",
    "#### Submission by: Aaron Balson Caroltin .J\n"
   ]
  },
  {
   "cell_type": "markdown",
   "metadata": {},
   "source": [
    "### Background Information\n",
    "In a Stroop task, participants are presented with a list of words, with each word displayed in a color of ink. The participant’s task is to say out loud the color of the ink in which the word is printed. The task has two conditions: a congruent words condition, and an incongruent words condition. In the congruent words condition, the words being displayed are color words whose names match the colors in which they are printed: for example <span style=\"color:red\">RED</span>, <span style=\"color:blue\">BLUE</span>. In the incongruent words condition, the words displayed are color words whose names do not match the colors in which they are printed: for example <span style=\"color:brown\">PURPLE</span>, <span style=\"color:green\">ORANGE</span>. In each case, we measure the time it takes to name the ink colors in equally-sized lists. Each participant will go through and record a time from each condition.\n",
    "\n"
   ]
  },
  {
   "cell_type": "code",
   "execution_count": 61,
   "metadata": {},
   "outputs": [],
   "source": [
    "import pandas as pd\n",
    "import numpy as np\n",
    "import math\n",
    "from scipy import stats\n",
    "import seaborn as sns\n",
    "import matplotlib.pyplot as plt\n",
    "%matplotlib inline\n"
   ]
  },
  {
   "cell_type": "code",
   "execution_count": 54,
   "metadata": {},
   "outputs": [
    {
     "name": "stdout",
     "output_type": "stream",
     "text": [
      "    Congruent  Incongruent    Diff\n",
      "0      12.079       19.278   7.199\n",
      "1      16.791       18.741   1.950\n",
      "2       9.564       21.214  11.650\n",
      "3       8.630       15.687   7.057\n",
      "4      14.669       22.803   8.134\n",
      "5      12.238       20.878   8.640\n",
      "6      14.692       24.572   9.880\n",
      "7       8.987       17.394   8.407\n",
      "8       9.401       20.762  11.361\n",
      "9      14.480       26.282  11.802\n",
      "10     22.328       24.524   2.196\n",
      "11     15.298       18.644   3.346\n",
      "12     15.073       17.510   2.437\n",
      "13     16.929       20.330   3.401\n",
      "14     18.200       35.255  17.055\n",
      "15     12.130       22.158  10.028\n",
      "16     18.495       25.139   6.644\n",
      "17     10.639       20.429   9.790\n",
      "18     11.344       17.425   6.081\n",
      "19     12.369       34.288  21.919\n",
      "20     12.944       23.894  10.950\n",
      "21     14.233       17.960   3.727\n",
      "22     19.710       22.058   2.348\n",
      "23     16.004       21.157   5.153\n"
     ]
    }
   ],
   "source": [
    "\"\"\"\n",
    "Import dataset from stroopdata.csv\n",
    "\"\"\"\n",
    "data = pd.read_csv('stroopdata.csv')\n",
    "\n",
    "#data.drop(['Diff'], axis=1)\n",
    "data['Diff'] = data['Incongruent'] - data['Congruent']\n",
    "print(data)"
   ]
  },
  {
   "cell_type": "markdown",
   "metadata": {},
   "source": [
    "**Question 1:** What is our independent variable? What is our dependent variable?\n",
    "\n",
    "**Answer:** In experiments, we vary independent variable(s) under controlled environment and observe for changes imparted on dependent variable. \n",
    "1. In our experiment, for each subject, the dependant variable is the response time recorded in seconds, \n",
    "2. while the independant variable is the congruent or incongruent state of the word being read."
   ]
  },
  {
   "cell_type": "markdown",
   "metadata": {},
   "source": [
    "**Question 2:** What is an appropriate set of hypotheses for this task? What kind of statistical test do you expect to perform? Justify your choices.\n",
    "\n",
    "**Answer:** \n",
    "\n",
    "1. Null Hypothsis (H0) - We will start with assumption that there won't be any Stroop effect noticed (in terms of difference in time) while reading congruent or incongruent words.\n",
    "\n",
    "    Alternate Hypothesis(H1) - There will be time difference noticed between both reading tasks with incongruent words possibly taking longer than congruent words.\n",
    "\n",
    "    > H0: μ<sub>i</sub> approx equals μ<sub>c</sub><br/>\n",
    "    > H1: μ<sub>i</sub> greater (or lesser) than μ<sub>c</sub><br/>\n",
    "    > Where μ<sub>i</sub> = sample mean of incongruent values and μ<sub>c</sub> = sample mean of congruent values\n",
    "\n",
    "2. By using the same subject twice to perform both reading tasks, we eliminate the individual skill differences between subjects. The two-tailed t-test is also helpful to suggest if the Scroop effect has greater (or lesser) impact on the response time.\n",
    "\n",
    "3. Since the dataset is below 30 samples and we don't know either the population mean or SD, we are picking t-test over z-test. Also, as we require to compare the means of the same two groups, with readings not in normal distribution and with few outliers, our choice is to use two-tailed t-test."
   ]
  },
  {
   "cell_type": "markdown",
   "metadata": {},
   "source": [
    "**Question 3:** Report some descriptive statistics regarding this dataset. Include at least one measure of central tendency and at least one measure of variability\n",
    "\n",
    "**Answer:** \n",
    "1. Some descriptive stats as below\n",
    "2. Included central tendency (mean)\n",
    "3. Included measure of variability (std)\n",
    "\n",
    "Considerable difference between µ-Congruent and µ-InCongruent is implying to reject the H0 and confirming Stroop effect."
   ]
  },
  {
   "cell_type": "code",
   "execution_count": 55,
   "metadata": {},
   "outputs": [
    {
     "data": {
      "text/html": [
       "<div>\n",
       "<style scoped>\n",
       "    .dataframe tbody tr th:only-of-type {\n",
       "        vertical-align: middle;\n",
       "    }\n",
       "\n",
       "    .dataframe tbody tr th {\n",
       "        vertical-align: top;\n",
       "    }\n",
       "\n",
       "    .dataframe thead th {\n",
       "        text-align: right;\n",
       "    }\n",
       "</style>\n",
       "<table border=\"1\" class=\"dataframe\">\n",
       "  <thead>\n",
       "    <tr style=\"text-align: right;\">\n",
       "      <th></th>\n",
       "      <th>Congruent</th>\n",
       "      <th>Incongruent</th>\n",
       "      <th>Diff</th>\n",
       "    </tr>\n",
       "  </thead>\n",
       "  <tbody>\n",
       "    <tr>\n",
       "      <th>count</th>\n",
       "      <td>24.000000</td>\n",
       "      <td>24.000000</td>\n",
       "      <td>24.000000</td>\n",
       "    </tr>\n",
       "    <tr>\n",
       "      <th>mean</th>\n",
       "      <td>14.051125</td>\n",
       "      <td>22.015917</td>\n",
       "      <td>7.964792</td>\n",
       "    </tr>\n",
       "    <tr>\n",
       "      <th>std</th>\n",
       "      <td>3.559358</td>\n",
       "      <td>4.797057</td>\n",
       "      <td>4.864827</td>\n",
       "    </tr>\n",
       "    <tr>\n",
       "      <th>min</th>\n",
       "      <td>8.630000</td>\n",
       "      <td>15.687000</td>\n",
       "      <td>1.950000</td>\n",
       "    </tr>\n",
       "    <tr>\n",
       "      <th>20%</th>\n",
       "      <td>11.062000</td>\n",
       "      <td>18.370400</td>\n",
       "      <td>3.379000</td>\n",
       "    </tr>\n",
       "    <tr>\n",
       "      <th>40%</th>\n",
       "      <td>12.484000</td>\n",
       "      <td>20.495600</td>\n",
       "      <td>6.726600</td>\n",
       "    </tr>\n",
       "    <tr>\n",
       "      <th>50%</th>\n",
       "      <td>14.356500</td>\n",
       "      <td>21.017500</td>\n",
       "      <td>7.666500</td>\n",
       "    </tr>\n",
       "    <tr>\n",
       "      <th>60%</th>\n",
       "      <td>14.687400</td>\n",
       "      <td>21.889200</td>\n",
       "      <td>8.593400</td>\n",
       "    </tr>\n",
       "    <tr>\n",
       "      <th>80%</th>\n",
       "      <td>16.846200</td>\n",
       "      <td>24.543200</td>\n",
       "      <td>11.114400</td>\n",
       "    </tr>\n",
       "    <tr>\n",
       "      <th>max</th>\n",
       "      <td>22.328000</td>\n",
       "      <td>35.255000</td>\n",
       "      <td>21.919000</td>\n",
       "    </tr>\n",
       "  </tbody>\n",
       "</table>\n",
       "</div>"
      ],
      "text/plain": [
       "       Congruent  Incongruent       Diff\n",
       "count  24.000000    24.000000  24.000000\n",
       "mean   14.051125    22.015917   7.964792\n",
       "std     3.559358     4.797057   4.864827\n",
       "min     8.630000    15.687000   1.950000\n",
       "20%    11.062000    18.370400   3.379000\n",
       "40%    12.484000    20.495600   6.726600\n",
       "50%    14.356500    21.017500   7.666500\n",
       "60%    14.687400    21.889200   8.593400\n",
       "80%    16.846200    24.543200  11.114400\n",
       "max    22.328000    35.255000  21.919000"
      ]
     },
     "execution_count": 55,
     "metadata": {},
     "output_type": "execute_result"
    }
   ],
   "source": [
    "# removing null values to avoid errors  \n",
    "data.dropna(inplace = True)\n",
    "\n",
    "# percentile list (50% is Median)\n",
    "perc =[.20, .40, .50, .60, .80] \n",
    "  \n",
    "# list of dtypes to include \n",
    "include =['object', 'float', 'int'] \n",
    "\n",
    "data.describe(percentiles = perc, include = include)\n"
   ]
  },
  {
   "cell_type": "markdown",
   "metadata": {},
   "source": [
    "**Question 4:** Provide one or two visualizations that show the distribution of the sample data. Write one or two sentences noting what you observe about the plot or plots.\n",
    "\n",
    "**Answer:**\n"
   ]
  },
  {
   "cell_type": "code",
   "execution_count": 56,
   "metadata": {},
   "outputs": [
    {
     "data": {
      "image/png": "[encoded data removed]",
      "text/plain": [
       "<Figure size 432x288 with 1 Axes>"
      ]
     },
     "metadata": {},
     "output_type": "display_data"
    }
   ],
   "source": [
    "# Boxplot to compare range, median, quartile between two groups\n",
    "sns.set_style(\"whitegrid\")\n",
    "sns.boxplot(data=data[['Congruent', 'Incongruent']], orient=\"v\",width=0.4, palette=\"colorblind\");\n",
    "plt.ylabel(\"Time\");"
   ]
  },
  {
   "cell_type": "markdown",
   "metadata": {},
   "source": [
    "Observance: The Range and Median of both groups clearly suggest, the response time of both group are different. Also, the Congruent group has lower quartile range (8 - 22) while Incongruent group has higher (15 - 26) with couple of outliers at 34,35 not helping the case for H0."
   ]
  },
  {
   "cell_type": "code",
   "execution_count": 57,
   "metadata": {},
   "outputs": [
    {
     "name": "stderr",
     "output_type": "stream",
     "text": [
      "C:\\Program Files (x86)\\Microsoft Visual Studio\\Shared\\Anaconda3_64\\lib\\site-packages\\scipy\\stats\\stats.py:1713: FutureWarning: Using a non-tuple sequence for multidimensional indexing is deprecated; use `arr[tuple(seq)]` instead of `arr[seq]`. In the future this will be interpreted as an array index, `arr[np.array(seq)]`, which will result either in an error or a different result.\n",
      "  return np.add.reduce(sorted[indexer] * weights, axis=axis) / sumval\n"
     ]
    },
    {
     "data": {
      "image/png": "[encoded data removed]",
      "text/plain": [
       "<Figure size 432x288 with 1 Axes>"
      ]
     },
     "metadata": {},
     "output_type": "display_data"
    }
   ],
   "source": [
    "# Distribution frequency comparision for Response time\n",
    "sns.distplot(data['Congruent'],label = \"Congruent\")\n",
    "sns.distplot(data['Incongruent'],label = \"Incongruent\")\n",
    "plt.xlabel(\"Time\");\n",
    "plt.ylabel(\"Frequency\");\n",
    "plt.title(\"Response Time For Congruent Vs Incongruent Words\");\n",
    "plt.legend();"
   ]
  },
  {
   "cell_type": "markdown",
   "metadata": {},
   "source": [
    "Observance: The response time curves are nearly parallel with a shift right (from Congruent to Incongruent), hence supporting case for H1. It seems everyone who performed well in Congruent test has taken more time at InCongruent test."
   ]
  },
  {
   "cell_type": "markdown",
   "metadata": {},
   "source": [
    "**Question:5** Now, perform the statistical test and report your results. What is your confidence level and your critical statistic value? Do you reject the null hypothesis or fail to reject it? Come to a conclusion in terms of the experiment task. Did the results match up with your expectations?\n",
    "\n",
    "**Answer:**\n"
   ]
  },
  {
   "cell_type": "code",
   "execution_count": 67,
   "metadata": {},
   "outputs": [
    {
     "name": "stdout",
     "output_type": "stream",
     "text": [
      "T-statistics = 8.020706944109957\n",
      "T-critical = 1.7138715277470473\n",
      "P-value = 2.0515002918664038e-08\n"
     ]
    }
   ],
   "source": [
    "# Perform t-test\n",
    "std_err_diff = data.Diff.std() / ( data.shape[0]**0.5 )\n",
    "t_stat = data.Diff.mean() / std_err_diff\n",
    "\n",
    "#t-critical value for a 95% confidence level and 23 d.f.\n",
    "t_crit = t.ppf(.95, 23)\n",
    "\n",
    "print('T-statistics =', t_stat)\n",
    "print('T-critical =', t_crit)\n",
    "print('P-value =', 1-stats.t.cdf(t_stat, data.shape[0]-1))"
   ]
  },
  {
   "cell_type": "markdown",
   "metadata": {},
   "source": [
    "For Significance level = 0.05, Confidence level = 1-0.05 = 0.95 (95%)</br>\n",
    "This is the probability of rejecting H0 when it is true.</br>\n",
    "\n",
    "For degree of freedom: 24-1=23, T-statistics = 8.0207 relates to P-value of 2.05152-08  and T-critical of 1.713</br>\n",
    "P-value is strength of evidence to support H0 but it is less than 0.05</br>\n",
    "\n",
    "Also T-stat > T-crit so we will reject H0 (and accept H1)\n"
   ]
  },
  {
   "cell_type": "markdown",
   "metadata": {},
   "source": [
    "**Optional Question 6:** What do you think is responsible for the effects observed? Can you think of an alternative or similar task that would result in a similar effect? Some research about the problem will be helpful for thinking about these two questions!\n",
    "\n",
    "**Answer:** Stroop effect in action. It is observed though, in children, it is less effective probably because they are good at reading colors than text. Nature of our brain is such that it tries to infer as such details from limited time/source. When eye sees the color, brain instinctly tries to find more details so it reads out text as well. Using last-in, first-out phenomenon, when it tries to say aloud, lastly inference (text) comes out naturally unless controlled. Hence the additional processing time required by brain for Incongruent words. \n",
    "\n",
    "I have played similar alternative games in lumosity where the player has to constrain himself from clicking on wrong options which pop on screen at face pace (eg: should left click on it when seeing any even number or vowel letter but right click otherwise)."
   ]
  },
  {
   "cell_type": "markdown",
   "metadata": {},
   "source": [
    "**References**\n",
    "\n",
    "https://www.statisticshowto.datasciencecentral.com/probability-and-statistics/hypothesis-testing/t-score-vs-z-score/\n",
    "\n",
    "https://www.geeksforgeeks.org/python-pandas-dataframe-describe-method/\n",
    "\n",
    "https://seaborn.pydata.org/\n",
    "\n",
    "https://docs.scipy.org/doc/scipy/reference/stats.html\n",
    "\n",
    "https://s3.amazonaws.com/udacity-hosted-downloads/t-table.jpg\n",
    "\n",
    "http://science.sciencemag.org/content/204/4400/1402.1\n"
   ]
  },
  {
   "cell_type": "code",
   "execution_count": null,
   "metadata": {},
   "outputs": [],
   "source": []
  }
 ],
 "metadata": {
  "kernelspec": {
   "display_name": "Python 3",
   "language": "python",
   "name": "python3"
  },
  "language_info": {
   "codemirror_mode": {
    "name": "ipython",
    "version": 3
   },
   "file_extension": ".py",
   "mimetype": "text/x-python",
   "name": "python",
   "nbconvert_exporter": "python",
   "pygments_lexer": "ipython3",
   "version": "3.6.6"
  }
 },
 "nbformat": 4,
 "nbformat_minor": 2
}
