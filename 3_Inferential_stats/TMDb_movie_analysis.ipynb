{
 "cells": [
  {
   "cell_type": "markdown",
   "metadata": {},
   "source": [
    "# Machine Learning Foundation Nanodegree 2018-2019\n",
    "## Project 3: Investigate a Dataset (TMDb Movie Analysis)\n",
    "### Submission by: Aaron Balson Caroltin .J\n",
    "\n",
    "\n",
    "### Table of Contents\n",
    "<ul>\n",
    "<li><a href=\"#intro\">I. Introduction</a></li>\n",
    "<li><a href=\"#wrangling\">II. Data Wrangling</a></li>\n",
    "<li><a href=\"#eda\">III. Exploratory Data Analysis</a></li>\n",
    "<li><a href=\"#conclusions\">IV. Conclusions</a></li>\n",
    "</ul>"
   ]
  },
  {
   "cell_type": "markdown",
   "metadata": {},
   "source": [
    "<a id='intro'></a>\n",
    "## I. Introduction\n",
    "\n",
    "What can we say about the success of a movie before it is released? Are there certain companies (Pixar?) that have found a consistent formula? Given that major films costing over $100 million to produce can still flop, this question is more important than ever to the industry. Film aficionados might have different interests. Can we predict which films will be highly rated, whether or not they are a commercial success?\n",
    "\n",
    "This dataset under investigation is a sub-set / kaggle version of TMDb movies with about 10K movies (rows) and 21 attributes (columns). It is a great place to start digging in to perform exploratory data analysis with data on the plot, cast, crew, budget, and revenues of several thousand films.\n",
    "\n",
    "<u>Questions we will try answer</u>\n",
    "1. What are the top 5 movies with the most budget, revenue, profit?\n",
    "2. Which genres, casts are behind successful movies?\n",
    "3. How many profitable movies are released on yearly trend?\n",
    "4. What is the movie runtime strategy for profitable movies?"
   ]
  },
  {
   "cell_type": "code",
   "execution_count": 186,
   "metadata": {},
   "outputs": [],
   "source": [
    "# All imports\n",
    "\n",
    "import pandas as pd\n",
    "import numpy as np\n",
    "from datetime import datetime\n",
    "import matplotlib.pyplot as plt\n",
    "% matplotlib inline"
   ]
  },
  {
   "cell_type": "markdown",
   "metadata": {},
   "source": [
    "<a id='wrangling'></a>\n",
    "## II. Data Wrangling\n",
    "\n",
    "\n",
    "### (i) General Properties"
   ]
  },
  {
   "cell_type": "code",
   "execution_count": 187,
   "metadata": {},
   "outputs": [
    {
     "name": "stdout",
     "output_type": "stream",
     "text": [
      "Data Shape (rows, cols): (10866, 21)\n",
      "Data Size (rows x cols): 228186\n",
      "Data Dimensions: 2\n",
      "Data Structure:\n",
      "<class 'pandas.core.frame.DataFrame'>\n",
      "RangeIndex: 10866 entries, 0 to 10865\n",
      "Data columns (total 21 columns):\n",
      "id                      10866 non-null int64\n",
      "imdb_id                 10856 non-null object\n",
      "popularity              10866 non-null float64\n",
      "budget                  10866 non-null int64\n",
      "revenue                 10866 non-null int64\n",
      "original_title          10866 non-null object\n",
      "cast                    10790 non-null object\n",
      "homepage                2936 non-null object\n",
      "director                10822 non-null object\n",
      "tagline                 8042 non-null object\n",
      "keywords                9373 non-null object\n",
      "overview                10862 non-null object\n",
      "runtime                 10866 non-null int64\n",
      "genres                  10843 non-null object\n",
      "production_companies    9836 non-null object\n",
      "release_date            10866 non-null object\n",
      "vote_count              10866 non-null int64\n",
      "vote_average            10866 non-null float64\n",
      "release_year            10866 non-null int64\n",
      "budget_adj              10866 non-null float64\n",
      "revenue_adj             10866 non-null float64\n",
      "dtypes: float64(4), int64(6), object(11)\n",
      "memory usage: 1.7+ MB\n"
     ]
    }
   ],
   "source": [
    "# Load Movie data\n",
    "data = pd.read_csv('tmdb-movies.csv')\n",
    "\n",
    "def show_dframe_info(data):\n",
    "    \"\"\" Shows Shape, Size, Dim and Structure of data\n",
    "        Args: data (dataframe) whose info is to be shown\n",
    "    \"\"\"\n",
    "    print('Data Shape (rows, cols):', data.shape)\n",
    "    print('Data Size (rows x cols):', data.size)\n",
    "    print('Data Dimensions:', data.ndim)\n",
    "    print('Data Structure:')\n",
    "    data.info()\n",
    "    # Display first 5 rows\n",
    "    data.head()\n",
    "\n",
    "show_dframe_info(data)\n"
   ]
  },
  {
   "cell_type": "code",
   "execution_count": 188,
   "metadata": {},
   "outputs": [
    {
     "name": "stdout",
     "output_type": "stream",
     "text": [
      "popularity (min, max) = 6.500000000000001e-05 to 32.985763\n",
      "vote_count (min, max) = 10 to 9767\n",
      "vote_average (min, max) = 1.5 to 9.2\n",
      "runtime (min, max) = 0 to 900\n",
      "revenue (min, max) = 0 to 2781505847\n"
     ]
    }
   ],
   "source": [
    "# Additional observations on numeric columns\n",
    "def show_range_for_numeric_cols(data):\n",
    "    \"\"\" Shows max, min values of numeric columns\n",
    "        Args: data (dataframe) whose numeric columns range is shown\n",
    "    \"\"\"\n",
    "    \n",
    "    print('popularity (min, max) =', data['popularity'].min(), \"to\" , data['popularity'].max())\n",
    "    print('vote_count (min, max) =', data['vote_count'].min(), \"to\" ,data['vote_count'].max())\n",
    "    print('vote_average (min, max) =', data['vote_average'].min(), \"to\" ,data['vote_average'].max())\n",
    "    print('runtime (min, max) =', data['runtime'].min(), \"to\" ,data['runtime'].max())\n",
    "    print('revenue (min, max) =', data['revenue'].min(), \"to\" ,data['revenue'].max())\n",
    "    \n",
    "show_range_for_numeric_cols(data)    "
   ]
  },
  {
   "cell_type": "code",
   "execution_count": 189,
   "metadata": {},
   "outputs": [
    {
     "name": "stdout",
     "output_type": "stream",
     "text": [
      "Most Runtime:\n"
     ]
    },
    {
     "data": {
      "text/plain": [
       "id                                                                 125336\n",
       "imdb_id                                                         tt2044056\n",
       "popularity                                                       0.006925\n",
       "budget                                                                  0\n",
       "revenue                                                                 0\n",
       "original_title                              The Story of Film: An Odyssey\n",
       "cast                    Mark Cousins|Jean-Michel Frodon|Cari Beauchamp...\n",
       "homepage                http://www.channel4.com/programmes/the-story-o...\n",
       "director                                                     Mark Cousins\n",
       "tagline                                                               NaN\n",
       "keywords                cinema|nouvelle vague|hindi cinema|cinema novo...\n",
       "overview                The Story of Film: An Odyssey, written and dir...\n",
       "runtime                                                               900\n",
       "genres                                                        Documentary\n",
       "production_companies                                                  NaN\n",
       "release_date                                                       9/3/11\n",
       "vote_count                                                             14\n",
       "vote_average                                                          9.2\n",
       "release_year                                                         2011\n",
       "budget_adj                                                              0\n",
       "revenue_adj                                                             0\n",
       "Name: 3894, dtype: object"
      ]
     },
     "execution_count": 189,
     "metadata": {},
     "output_type": "execute_result"
    }
   ],
   "source": [
    "# longest runtime\n",
    "print('Most Runtime:')\n",
    "data.loc[data['runtime'].idxmax()]\n"
   ]
  },
  {
   "cell_type": "code",
   "execution_count": 190,
   "metadata": {},
   "outputs": [
    {
     "name": "stdout",
     "output_type": "stream",
     "text": [
      "Most Popular:\n"
     ]
    },
    {
     "data": {
      "text/plain": [
       "id                                                                 135397\n",
       "imdb_id                                                         tt0369610\n",
       "popularity                                                        32.9858\n",
       "budget                                                          150000000\n",
       "revenue                                                        1513528810\n",
       "original_title                                             Jurassic World\n",
       "cast                    Chris Pratt|Bryce Dallas Howard|Irrfan Khan|Vi...\n",
       "homepage                                    http://www.jurassicworld.com/\n",
       "director                                                  Colin Trevorrow\n",
       "tagline                                                 The park is open.\n",
       "keywords                monster|dna|tyrannosaurus rex|velociraptor|island\n",
       "overview                Twenty-two years after the events of Jurassic ...\n",
       "runtime                                                               124\n",
       "genres                          Action|Adventure|Science Fiction|Thriller\n",
       "production_companies    Universal Studios|Amblin Entertainment|Legenda...\n",
       "release_date                                                       6/9/15\n",
       "vote_count                                                           5562\n",
       "vote_average                                                          6.5\n",
       "release_year                                                         2015\n",
       "budget_adj                                                       1.38e+08\n",
       "revenue_adj                                                   1.39245e+09\n",
       "Name: 0, dtype: object"
      ]
     },
     "execution_count": 190,
     "metadata": {},
     "output_type": "execute_result"
    }
   ],
   "source": [
    "#Most popular\n",
    "print('Most Popular:')\n",
    "data.loc[data['popularity'].idxmax()]"
   ]
  },
  {
   "cell_type": "markdown",
   "metadata": {},
   "source": [
    "**Initial Observations**: \n",
    "1. All monetary columns are assumed to be of $USD\n",
    "2. Popularity column (range: 6.5 - 32) is assumed to be of some derived column based on vote_average (range: 0 - 10) and vote_count columns so we will only carry popularity column forward.\n",
    "3. Film duration (runtime) seems to be in minutes (with an outlier of 900 minutes for British documentary film The Story of Film: An Odyssey which was targeted to TVs than Theatres).\n",
    "4. Some movies have co-directors, multiple genres, production companies (Piped) but we will assume those combinations to be of seperate and distinct value in those columns (we could have performed one-hot encoding based on questions we seek to answer but we won't be doing it for this analysis)\n",
    "\n",
    "\n",
    "### (ii) Data Cleaning\n",
    "Having done the initial observations, we have decided to remove about 11 columns that are inconsequential to answering our questions. We will then find and remove any duplicate records across the remaining columns. We will handle missing values by removing records that have no director information (as we dont have director related questions), however we will replace missing values with \"NA\" for cast and genre columns. Finally we will also remove records with invalid monetary fields (eg: zero budget and revenue) because our research depends on those columns. We choose <u>not</u> to expand cast or genre columns using getdummies (hot encoding) we will handle those categorical data in code."
   ]
  },
  {
   "cell_type": "code",
   "execution_count": 191,
   "metadata": {},
   "outputs": [
    {
     "name": "stdout",
     "output_type": "stream",
     "text": [
      "Cols before removal: 21\n",
      "Cols after removal: 10\n"
     ]
    }
   ],
   "source": [
    "# Dropping columns not required for further analysis\n",
    "\n",
    "def remove_colums(data, cols_to_delete):\n",
    "    \"\"\" Remove columns from dataframe \n",
    "        Args: \n",
    "            data (dataframe) to operate on\n",
    "            cols_to_delete (list) names of columns to remove\n",
    "    \"\"\"\n",
    "    print(\"Cols before removal:\", data.shape[1])\n",
    "    data.drop(cols_to_delete,axis=1, inplace=True)\n",
    "    # change date columns to datetime\n",
    "    data.release_date = pd.to_datetime(data['release_date'])\n",
    "    print(\"Cols after removal:\", data.shape[1])\n",
    "    \n",
    "remove_colums(data, ['id', 'imdb_id', 'homepage', 'tagline', 'keywords', 'overview', 'production_companies', 'vote_count', 'vote_average', 'budget_adj', 'revenue_adj'])"
   ]
  },
  {
   "cell_type": "code",
   "execution_count": 192,
   "metadata": {},
   "outputs": [
    {
     "name": "stdout",
     "output_type": "stream",
     "text": [
      "Rows before duplicates removal: 10866\n",
      "Rows after duplicates removal: 10865\n"
     ]
    }
   ],
   "source": [
    "# Dropping duplicate rows\n",
    "\n",
    "print(\"Rows before duplicates removal:\", data.shape[0])\n",
    "data.drop_duplicates(keep ='first', inplace=True)\n",
    "print(\"Rows after duplicates removal:\", data.shape[0])\n"
   ]
  },
  {
   "cell_type": "code",
   "execution_count": 193,
   "metadata": {},
   "outputs": [
    {
     "name": "stdout",
     "output_type": "stream",
     "text": [
      "Count of null values in each column:\n",
      "popularity         0\n",
      "budget             0\n",
      "revenue            0\n",
      "original_title     0\n",
      "cast              76\n",
      "director          44\n",
      "runtime            0\n",
      "genres            23\n",
      "release_date       0\n",
      "release_year       0\n",
      "dtype: int64\n",
      "<p>Rows before null handling: 10865\n",
      "Rows after null handling: 10821\n"
     ]
    }
   ],
   "source": [
    "# dropna, fillna rows\n",
    "def handle_missing(data):\n",
    "    \"\"\" Handles missing values by either removing them or replacing them \n",
    "        Args: data (dataframe) to operate on\n",
    "    \"\"\"\n",
    "    \n",
    "    print(\"Count of null values in each column:\")\n",
    "    print(data.isnull().sum())\n",
    "    \n",
    "    print(\"<p>Rows before null handling:\", data.shape[0])\n",
    "    # Remove rows with \"null\" director column\n",
    "    data.dropna(subset=['director'], inplace=True) \n",
    "    # Replace \"null\" with \"NA\" for cast, genres columns\n",
    "    data[\"cast\"].fillna(\"NA\", inplace = True) \n",
    "    data[\"genres\"].fillna(\"NA\", inplace = True) \n",
    "    \n",
    "    print(\"Rows after null handling:\", data.shape[0])\n",
    "\n",
    "handle_missing(data)"
   ]
  },
  {
   "cell_type": "code",
   "execution_count": 194,
   "metadata": {},
   "outputs": [
    {
     "name": "stdout",
     "output_type": "stream",
     "text": [
      "Rows before zero handling 10821\n",
      "Rows after zero handling 3853\n",
      "Finalized dataset:\n"
     ]
    },
    {
     "data": {
      "text/html": [
       "<div>\n",
       "<style scoped>\n",
       "    .dataframe tbody tr th:only-of-type {\n",
       "        vertical-align: middle;\n",
       "    }\n",
       "\n",
       "    .dataframe tbody tr th {\n",
       "        vertical-align: top;\n",
       "    }\n",
       "\n",
       "    .dataframe thead th {\n",
       "        text-align: right;\n",
       "    }\n",
       "</style>\n",
       "<table border=\"1\" class=\"dataframe\">\n",
       "  <thead>\n",
       "    <tr style=\"text-align: right;\">\n",
       "      <th></th>\n",
       "      <th>popularity</th>\n",
       "      <th>budget</th>\n",
       "      <th>revenue</th>\n",
       "      <th>original_title</th>\n",
       "      <th>cast</th>\n",
       "      <th>director</th>\n",
       "      <th>runtime</th>\n",
       "      <th>genres</th>\n",
       "      <th>release_date</th>\n",
       "      <th>release_year</th>\n",
       "    </tr>\n",
       "  </thead>\n",
       "  <tbody>\n",
       "    <tr>\n",
       "      <th>0</th>\n",
       "      <td>32.985763</td>\n",
       "      <td>150000000</td>\n",
       "      <td>1513528810</td>\n",
       "      <td>Jurassic World</td>\n",
       "      <td>Chris Pratt|Bryce Dallas Howard|Irrfan Khan|Vi...</td>\n",
       "      <td>Colin Trevorrow</td>\n",
       "      <td>124</td>\n",
       "      <td>Action|Adventure|Science Fiction|Thriller</td>\n",
       "      <td>2015-06-09</td>\n",
       "      <td>2015</td>\n",
       "    </tr>\n",
       "    <tr>\n",
       "      <th>1</th>\n",
       "      <td>28.419936</td>\n",
       "      <td>150000000</td>\n",
       "      <td>378436354</td>\n",
       "      <td>Mad Max: Fury Road</td>\n",
       "      <td>Tom Hardy|Charlize Theron|Hugh Keays-Byrne|Nic...</td>\n",
       "      <td>George Miller</td>\n",
       "      <td>120</td>\n",
       "      <td>Action|Adventure|Science Fiction|Thriller</td>\n",
       "      <td>2015-05-13</td>\n",
       "      <td>2015</td>\n",
       "    </tr>\n",
       "    <tr>\n",
       "      <th>2</th>\n",
       "      <td>13.112507</td>\n",
       "      <td>110000000</td>\n",
       "      <td>295238201</td>\n",
       "      <td>Insurgent</td>\n",
       "      <td>Shailene Woodley|Theo James|Kate Winslet|Ansel...</td>\n",
       "      <td>Robert Schwentke</td>\n",
       "      <td>119</td>\n",
       "      <td>Adventure|Science Fiction|Thriller</td>\n",
       "      <td>2015-03-18</td>\n",
       "      <td>2015</td>\n",
       "    </tr>\n",
       "    <tr>\n",
       "      <th>3</th>\n",
       "      <td>11.173104</td>\n",
       "      <td>200000000</td>\n",
       "      <td>2068178225</td>\n",
       "      <td>Star Wars: The Force Awakens</td>\n",
       "      <td>Harrison Ford|Mark Hamill|Carrie Fisher|Adam D...</td>\n",
       "      <td>J.J. Abrams</td>\n",
       "      <td>136</td>\n",
       "      <td>Action|Adventure|Science Fiction|Fantasy</td>\n",
       "      <td>2015-12-15</td>\n",
       "      <td>2015</td>\n",
       "    </tr>\n",
       "    <tr>\n",
       "      <th>4</th>\n",
       "      <td>9.335014</td>\n",
       "      <td>190000000</td>\n",
       "      <td>1506249360</td>\n",
       "      <td>Furious 7</td>\n",
       "      <td>Vin Diesel|Paul Walker|Jason Statham|Michelle ...</td>\n",
       "      <td>James Wan</td>\n",
       "      <td>137</td>\n",
       "      <td>Action|Crime|Thriller</td>\n",
       "      <td>2015-04-01</td>\n",
       "      <td>2015</td>\n",
       "    </tr>\n",
       "  </tbody>\n",
       "</table>\n",
       "</div>"
      ],
      "text/plain": [
       "   popularity     budget     revenue                original_title  \\\n",
       "0   32.985763  150000000  1513528810                Jurassic World   \n",
       "1   28.419936  150000000   378436354            Mad Max: Fury Road   \n",
       "2   13.112507  110000000   295238201                     Insurgent   \n",
       "3   11.173104  200000000  2068178225  Star Wars: The Force Awakens   \n",
       "4    9.335014  190000000  1506249360                     Furious 7   \n",
       "\n",
       "                                                cast          director  \\\n",
       "0  Chris Pratt|Bryce Dallas Howard|Irrfan Khan|Vi...   Colin Trevorrow   \n",
       "1  Tom Hardy|Charlize Theron|Hugh Keays-Byrne|Nic...     George Miller   \n",
       "2  Shailene Woodley|Theo James|Kate Winslet|Ansel...  Robert Schwentke   \n",
       "3  Harrison Ford|Mark Hamill|Carrie Fisher|Adam D...       J.J. Abrams   \n",
       "4  Vin Diesel|Paul Walker|Jason Statham|Michelle ...         James Wan   \n",
       "\n",
       "   runtime                                     genres release_date  \\\n",
       "0      124  Action|Adventure|Science Fiction|Thriller   2015-06-09   \n",
       "1      120  Action|Adventure|Science Fiction|Thriller   2015-05-13   \n",
       "2      119         Adventure|Science Fiction|Thriller   2015-03-18   \n",
       "3      136   Action|Adventure|Science Fiction|Fantasy   2015-12-15   \n",
       "4      137                      Action|Crime|Thriller   2015-04-01   \n",
       "\n",
       "   release_year  \n",
       "0          2015  \n",
       "1          2015  \n",
       "2          2015  \n",
       "3          2015  \n",
       "4          2015  "
      ]
     },
     "execution_count": 194,
     "metadata": {},
     "output_type": "execute_result"
    }
   ],
   "source": [
    "# remove zero budget & zero revenue movies\n",
    "\n",
    "def zero_handling(data):\n",
    "    \"\"\" Handles missing values by either removing them or replacing them \n",
    "        Args: data (dataframe) to operate on\n",
    "    \"\"\"\n",
    "    print(\"Rows before zero handling\", data.shape[0])\n",
    "    cond1 = data['budget'] != 0\n",
    "    cond2 = data['revenue'] != 0\n",
    "    data_nonzero = data[cond1 & cond2]\n",
    "    #data.drop(data[cond1 & cond2].index, inplace=True)\n",
    "    print(\"Rows after zero handling\", data_nonzero.shape[0])\n",
    "\n",
    "zero_handling(data)\n",
    "print('Finalized dataset:')\n",
    "data.head()"
   ]
  },
  {
   "cell_type": "markdown",
   "metadata": {},
   "source": [
    "<a id='eda'></a>\n",
    "## III. Exploratory Data Analysis\n",
    "\n",
    "### Research Question 1 (What are the top 5 movies with the most budget, revenue & profit?)"
   ]
  },
  {
   "cell_type": "code",
   "execution_count": 195,
   "metadata": {},
   "outputs": [
    {
     "name": "stdout",
     "output_type": "stream",
     "text": [
      "Highest budget movies:\n"
     ]
    },
    {
     "data": {
      "text/html": [
       "<div>\n",
       "<style scoped>\n",
       "    .dataframe tbody tr th:only-of-type {\n",
       "        vertical-align: middle;\n",
       "    }\n",
       "\n",
       "    .dataframe tbody tr th {\n",
       "        vertical-align: top;\n",
       "    }\n",
       "\n",
       "    .dataframe thead th {\n",
       "        text-align: right;\n",
       "    }\n",
       "</style>\n",
       "<table border=\"1\" class=\"dataframe\">\n",
       "  <thead>\n",
       "    <tr style=\"text-align: right;\">\n",
       "      <th></th>\n",
       "      <th>budget</th>\n",
       "      <th>original_title</th>\n",
       "      <th>release_year</th>\n",
       "    </tr>\n",
       "  </thead>\n",
       "  <tbody>\n",
       "    <tr>\n",
       "      <th>2244</th>\n",
       "      <td>425000000</td>\n",
       "      <td>The Warrior's Way</td>\n",
       "      <td>2010</td>\n",
       "    </tr>\n",
       "    <tr>\n",
       "      <th>3375</th>\n",
       "      <td>380000000</td>\n",
       "      <td>Pirates of the Caribbean: On Stranger Tides</td>\n",
       "      <td>2011</td>\n",
       "    </tr>\n",
       "    <tr>\n",
       "      <th>7387</th>\n",
       "      <td>300000000</td>\n",
       "      <td>Pirates of the Caribbean: At World's End</td>\n",
       "      <td>2007</td>\n",
       "    </tr>\n",
       "    <tr>\n",
       "      <th>14</th>\n",
       "      <td>280000000</td>\n",
       "      <td>Avengers: Age of Ultron</td>\n",
       "      <td>2015</td>\n",
       "    </tr>\n",
       "    <tr>\n",
       "      <th>6570</th>\n",
       "      <td>270000000</td>\n",
       "      <td>Superman Returns</td>\n",
       "      <td>2006</td>\n",
       "    </tr>\n",
       "  </tbody>\n",
       "</table>\n",
       "</div>"
      ],
      "text/plain": [
       "         budget                               original_title  release_year\n",
       "2244  425000000                            The Warrior's Way          2010\n",
       "3375  380000000  Pirates of the Caribbean: On Stranger Tides          2011\n",
       "7387  300000000     Pirates of the Caribbean: At World's End          2007\n",
       "14    280000000                      Avengers: Age of Ultron          2015\n",
       "6570  270000000                             Superman Returns          2006"
      ]
     },
     "execution_count": 195,
     "metadata": {},
     "output_type": "execute_result"
    }
   ],
   "source": [
    "# Finding top 5 movies with highest budget\n",
    "print('Highest budget movies:')\n",
    "data_nonzero.nlargest(5, 'budget')[['budget', 'original_title', 'release_year']]"
   ]
  },
  {
   "cell_type": "code",
   "execution_count": 196,
   "metadata": {},
   "outputs": [
    {
     "name": "stdout",
     "output_type": "stream",
     "text": [
      "Top 5 highest revenue movies:\n"
     ]
    },
    {
     "data": {
      "text/html": [
       "<div>\n",
       "<style scoped>\n",
       "    .dataframe tbody tr th:only-of-type {\n",
       "        vertical-align: middle;\n",
       "    }\n",
       "\n",
       "    .dataframe tbody tr th {\n",
       "        vertical-align: top;\n",
       "    }\n",
       "\n",
       "    .dataframe thead th {\n",
       "        text-align: right;\n",
       "    }\n",
       "</style>\n",
       "<table border=\"1\" class=\"dataframe\">\n",
       "  <thead>\n",
       "    <tr style=\"text-align: right;\">\n",
       "      <th></th>\n",
       "      <th>revenue</th>\n",
       "      <th>original_title</th>\n",
       "      <th>release_year</th>\n",
       "    </tr>\n",
       "  </thead>\n",
       "  <tbody>\n",
       "    <tr>\n",
       "      <th>1386</th>\n",
       "      <td>2781505847</td>\n",
       "      <td>Avatar</td>\n",
       "      <td>2009</td>\n",
       "    </tr>\n",
       "    <tr>\n",
       "      <th>3</th>\n",
       "      <td>2068178225</td>\n",
       "      <td>Star Wars: The Force Awakens</td>\n",
       "      <td>2015</td>\n",
       "    </tr>\n",
       "    <tr>\n",
       "      <th>5231</th>\n",
       "      <td>1845034188</td>\n",
       "      <td>Titanic</td>\n",
       "      <td>1997</td>\n",
       "    </tr>\n",
       "    <tr>\n",
       "      <th>4361</th>\n",
       "      <td>1519557910</td>\n",
       "      <td>The Avengers</td>\n",
       "      <td>2012</td>\n",
       "    </tr>\n",
       "    <tr>\n",
       "      <th>0</th>\n",
       "      <td>1513528810</td>\n",
       "      <td>Jurassic World</td>\n",
       "      <td>2015</td>\n",
       "    </tr>\n",
       "  </tbody>\n",
       "</table>\n",
       "</div>"
      ],
      "text/plain": [
       "         revenue                original_title  release_year\n",
       "1386  2781505847                        Avatar          2009\n",
       "3     2068178225  Star Wars: The Force Awakens          2015\n",
       "5231  1845034188                       Titanic          1997\n",
       "4361  1519557910                  The Avengers          2012\n",
       "0     1513528810                Jurassic World          2015"
      ]
     },
     "execution_count": 196,
     "metadata": {},
     "output_type": "execute_result"
    }
   ],
   "source": [
    "# Finding top 5 movies with highest revenue\n",
    "print('Top 5 highest revenue movies:')\n",
    "data_nonzero.nlargest(5, 'revenue')[['revenue', 'original_title', 'release_year']]"
   ]
  },
  {
   "cell_type": "code",
   "execution_count": 197,
   "metadata": {},
   "outputs": [
    {
     "name": "stdout",
     "output_type": "stream",
     "text": [
      "Profitable movies: 2777\n",
      "Top 5 highest profitable movies:\n"
     ]
    },
    {
     "data": {
      "text/html": [
       "<div>\n",
       "<style scoped>\n",
       "    .dataframe tbody tr th:only-of-type {\n",
       "        vertical-align: middle;\n",
       "    }\n",
       "\n",
       "    .dataframe tbody tr th {\n",
       "        vertical-align: top;\n",
       "    }\n",
       "\n",
       "    .dataframe thead th {\n",
       "        text-align: right;\n",
       "    }\n",
       "</style>\n",
       "<table border=\"1\" class=\"dataframe\">\n",
       "  <thead>\n",
       "    <tr style=\"text-align: right;\">\n",
       "      <th></th>\n",
       "      <th>profit</th>\n",
       "      <th>original_title</th>\n",
       "      <th>release_year</th>\n",
       "    </tr>\n",
       "  </thead>\n",
       "  <tbody>\n",
       "    <tr>\n",
       "      <th>1386</th>\n",
       "      <td>2544505847</td>\n",
       "      <td>Avatar</td>\n",
       "      <td>2009</td>\n",
       "    </tr>\n",
       "    <tr>\n",
       "      <th>3</th>\n",
       "      <td>1868178225</td>\n",
       "      <td>Star Wars: The Force Awakens</td>\n",
       "      <td>2015</td>\n",
       "    </tr>\n",
       "    <tr>\n",
       "      <th>5231</th>\n",
       "      <td>1645034188</td>\n",
       "      <td>Titanic</td>\n",
       "      <td>1997</td>\n",
       "    </tr>\n",
       "    <tr>\n",
       "      <th>0</th>\n",
       "      <td>1363528810</td>\n",
       "      <td>Jurassic World</td>\n",
       "      <td>2015</td>\n",
       "    </tr>\n",
       "    <tr>\n",
       "      <th>4</th>\n",
       "      <td>1316249360</td>\n",
       "      <td>Furious 7</td>\n",
       "      <td>2015</td>\n",
       "    </tr>\n",
       "  </tbody>\n",
       "</table>\n",
       "</div>"
      ],
      "text/plain": [
       "          profit                original_title  release_year\n",
       "1386  2544505847                        Avatar          2009\n",
       "3     1868178225  Star Wars: The Force Awakens          2015\n",
       "5231  1645034188                       Titanic          1997\n",
       "0     1363528810                Jurassic World          2015\n",
       "4     1316249360                     Furious 7          2015"
      ]
     },
     "execution_count": 197,
     "metadata": {},
     "output_type": "execute_result"
    }
   ],
   "source": [
    "# Finding top 5 movies with highest profit\n",
    "\n",
    "data_nonzero['profit'] = pd.to_numeric(data_nonzero['revenue'] - data_nonzero['budget'])\n",
    "#data_nonzero.assign(profit=data_nonzero.revenue - data_nonzero.budget)\n",
    "#data_nonzero['profit'] = data_nonzero['profit'].astype(int)\n",
    "#data_nonzero['profit'] = data_nonzero['profit'].apply(lambda x: '{:.2f}'.format(x))\n",
    "#data_nonzero['profit'] = pd.to_numeric(data_nonzero['profit'])\n",
    "#data_nonzero['profit'] = data_nonzero['profit'].apply(pd.to_numeric, downcast='float', errors='coerce')\n",
    "\n",
    "print('Profitable movies:', profit_data['profit'].count())\n",
    "\n",
    "print('Top 5 highest profitable movies:')\n",
    "data_nonzero.nlargest(5, 'profit')[['profit', 'original_title', 'release_year']]\n",
    "\n",
    "#data_nonzero.info()"
   ]
  },
  {
   "cell_type": "markdown",
   "metadata": {},
   "source": [
    "**Observation:** The top 5 list seems to be in align with the popularity of these movies and hence i will agree on the list.\n",
    "\n",
    "\n",
    "### Research Question 2  (Which genres, casts are behind successful movies?)"
   ]
  },
  {
   "cell_type": "code",
   "execution_count": 198,
   "metadata": {},
   "outputs": [],
   "source": [
    "# Helper functions\n",
    "def get_series_count(df, column, ascend, topn=1):\n",
    "    \"\"\" Get the split based on | and returns entries in the series \n",
    "        Args: \n",
    "            df(dataframe) to operate on\n",
    "            column (str) to operate on\n",
    "            ascend (bool) order by clause\n",
    "            topn (int) items to return\n",
    "        Returns: pd series grouped by column name with value counts\n",
    "    \"\"\"\n",
    "    df_temp = df[column].str.cat(sep = '|')\n",
    "    df_temp = pd.Series(df_temp.split('|'))\n",
    "    series = df_temp.value_counts(ascending = ascend).head(topn)\n",
    "    \n",
    "    return series\n",
    "\n",
    "def draw_Hbar(s, title):\n",
    "    \"\"\" Draw horizontal bar chart for the series\n",
    "        Args: \n",
    "            s(series) to operate on\n",
    "            col (str) for labeling\n",
    "    \"\"\"\n",
    "    s.sort_values(ascending = True, inplace = True)\n",
    "    crt = s.plot.barh(color = '#acdacd', fontsize = 10)\n",
    "\n",
    "    #title, label, figure size\n",
    "    title_font = {'fontname':'Arial', 'size':'16', 'color':'black', 'weight':'normal',\n",
    "              'verticalalignment':'bottom'}\n",
    "    \n",
    "    crt.set(title = 'Frequency Table')\n",
    "    crt.set_xlabel('# of successful movies', color = 'black', fontsize = '15')\n",
    "    crt.set_ylabel('Top ' + title, color = 'black', fontsize = '15')\n",
    "    crt.figure.set_size_inches(12, 9)\n",
    "    \n",
    "    plt.legend(loc='upper center', shadow=True, fontsize='x-large')\n",
    "    plt.legend(['Total'])\n",
    "\n",
    "    plt.show()"
   ]
  },
  {
   "cell_type": "code",
   "execution_count": 199,
   "metadata": {},
   "outputs": [
    {
     "name": "stdout",
     "output_type": "stream",
     "text": [
      "Top 10 successful casts:\n",
      "Robert De Niro       38\n",
      "Tom Hanks            33\n",
      "Bruce Willis         33\n",
      "Tom Cruise           31\n",
      "Brad Pitt            30\n",
      "Samuel L. Jackson    30\n",
      "Denzel Washington    29\n",
      "Harrison Ford        28\n",
      "Morgan Freeman       28\n",
      "Johnny Depp          27\n",
      "dtype: int64\n"
     ]
    },
    {
     "data": {
      "image/png": "[encoded data removed]",
      "text/plain": [
       "<Figure size 864x648 with 1 Axes>"
      ]
     },
     "metadata": {
      "needs_background": "light"
     },
     "output_type": "display_data"
    }
   ],
   "source": [
    "# Get top 10 casts from successful movies (profit > 0)\n",
    "profit_data = data_nonzero[data_nonzero['profit'] > 0]\n",
    "casts = get_series_count(profit_data, 'cast', ascend=False, topn=10)\n",
    "\n",
    "print('Top 10 successful casts:')\n",
    "print(casts)\n",
    "\n",
    "draw_Hbar(casts, 'Casts')"
   ]
  },
  {
   "cell_type": "code",
   "execution_count": 200,
   "metadata": {},
   "outputs": [
    {
     "name": "stdout",
     "output_type": "stream",
     "text": [
      "Top 10 successful genres:\n",
      "Drama              1171\n",
      "Comedy             1009\n",
      "Thriller            839\n",
      "Action              788\n",
      "Adventure           575\n",
      "Romance             473\n",
      "Crime               465\n",
      "Science Fiction     382\n",
      "Horror              343\n",
      "Family              340\n",
      "dtype: int64\n"
     ]
    },
    {
     "data": {
      "image/png": "[encoded data removed]",
      "text/plain": [
       "<Figure size 864x648 with 1 Axes>"
      ]
     },
     "metadata": {
      "needs_background": "light"
     },
     "output_type": "display_data"
    }
   ],
   "source": [
    "#get top 10 genres from successful movies (profit > 0)\n",
    "profit_data = data_nonzero[data_nonzero['profit'] > 0]\n",
    "genres = get_series_count(profit_data, 'genres', ascend=False, topn=10)\n",
    "\n",
    "print('Top 10 successful genres:')\n",
    "print(genres)\n",
    "\n",
    "draw_Hbar(genres, 'Genres')\n"
   ]
  },
  {
   "cell_type": "markdown",
   "metadata": {},
   "source": [
    "**Observation:** I can agree on the top 5 genres however the database is more inclined towards hollywood / english viewers and hence the culture, age of viewers have to be taken into account.\n",
    "\n",
    "### Research Question 3  (How many profitable movies are released on yearly trend?)"
   ]
  },
  {
   "cell_type": "code",
   "execution_count": 201,
   "metadata": {},
   "outputs": [
    {
     "data": {
      "text/plain": [
       "count    5.600000e+01\n",
       "mean     5.121541e+09\n",
       "std      5.554346e+09\n",
       "min      5.246869e+07\n",
       "25%      6.496452e+08\n",
       "50%      2.281079e+09\n",
       "75%      8.892808e+09\n",
       "max      1.944833e+10\n",
       "Name: profit, dtype: float64"
      ]
     },
     "execution_count": 201,
     "metadata": {},
     "output_type": "execute_result"
    }
   ],
   "source": [
    "# Find total yearly profit from all profitted movies and based on release_year\n",
    "total_yearly_profit = profit_data.groupby('release_year')['profit'].sum()\n",
    "#print(total_yearly_profit)\n",
    "total_yearly_profit.describe()\n"
   ]
  },
  {
   "cell_type": "code",
   "execution_count": 202,
   "metadata": {},
   "outputs": [
    {
     "data": {
      "image/png": "[encoded data removed]",
      "text/plain": [
       "<Figure size 1710x1140 with 1 Axes>"
      ]
     },
     "metadata": {
      "needs_background": "light"
     },
     "output_type": "display_data"
    }
   ],
   "source": [
    "# plot line graph to describe the trend\n",
    "plt.figure(figsize=(9,6), dpi = 190)\n",
    "\n",
    "#set axis, labels, title\n",
    "plt.xlabel('Release Year', fontsize = 15)\n",
    "plt.ylabel('Profits earned by Movies', fontsize = 15)\n",
    "plt.title('Yearly Profit Trend')\n",
    "plt.grid(True)\n",
    "\n",
    "\n",
    "plt.plot(total_yearly_profit, 'r--')\n",
    "plt.legend(loc='upper center', shadow=True, fontsize='x-large')\n",
    "plt.legend(['Total Profit YTY'])\n",
    "plt.show()"
   ]
  },
  {
   "cell_type": "markdown",
   "metadata": {},
   "source": [
    "**Observation:** based on single-variable (1d) and multiple-variable (2d) explorations, the reason we are seeing an upward trend for # of successful movies released can be attributed to the increased professionalism in the highly competitive movie making field. Technology also plays major role in making a movie hit. Viewership has increased since the age of internet as well.\n",
    "\n",
    "### Research Question 4  (What is the movie runtime strategy for profitable movies?)"
   ]
  },
  {
   "cell_type": "code",
   "execution_count": 203,
   "metadata": {},
   "outputs": [
    {
     "data": {
      "text/plain": [
       "count    2777.000000\n",
       "mean      110.159165\n",
       "std        20.113490\n",
       "min        26.000000\n",
       "25%        96.000000\n",
       "50%       106.000000\n",
       "75%       121.000000\n",
       "max       248.000000\n",
       "Name: runtime, dtype: float64"
      ]
     },
     "execution_count": 203,
     "metadata": {},
     "output_type": "execute_result"
    }
   ],
   "source": [
    "# describe the runtime (minutes)\n",
    "\n",
    "profit_data['runtime'].describe()"
   ]
  },
  {
   "cell_type": "code",
   "execution_count": 204,
   "metadata": {},
   "outputs": [
    {
     "data": {
      "text/plain": [
       "Text(0.5,1,'Successful movie runtime released before 1980')"
      ]
     },
     "execution_count": 204,
     "metadata": {},
     "output_type": "execute_result"
    },
    {
     "data": {
      "image/png": "[encoded data removed]",
      "text/plain": [
       "<Figure size 432x288 with 1 Axes>"
      ]
     },
     "metadata": {
      "needs_background": "light"
     },
     "output_type": "display_data"
    }
   ],
   "source": [
    "# Movie runtime for profitable movies\n",
    "profit_data['runtime'][profit_data['release_year'] < 1980].hist(bins=200);\n",
    "plt.xlabel('Minutes')\n",
    "plt.ylabel('Count')\n",
    "plt.title('Successful movie runtime released before 1980')"
   ]
  },
  {
   "cell_type": "code",
   "execution_count": 205,
   "metadata": {},
   "outputs": [
    {
     "data": {
      "text/plain": [
       "Text(0.5,1,'Successful movie runtime released after 1980')"
      ]
     },
     "execution_count": 205,
     "metadata": {},
     "output_type": "execute_result"
    },
    {
     "data": {
      "image/png": "[encoded data removed]",
      "text/plain": [
       "<Figure size 432x288 with 1 Axes>"
      ]
     },
     "metadata": {
      "needs_background": "light"
     },
     "output_type": "display_data"
    }
   ],
   "source": [
    "profit_data['runtime'][profit_data['release_year'] >= 1980].hist(bins=200);\n",
    "plt.xlabel('Minutes')\n",
    "plt.ylabel('Count')\n",
    "plt.title('Successful movie runtime released after 1980')"
   ]
  },
  {
   "cell_type": "markdown",
   "metadata": {},
   "source": [
    "**Observation:** based on single-variable (1d) and multiple-variable (2d) explorations, the sweet spot seems to be around 90-110 minutes mark (mean = 110.159165).<br/>\n",
    "Irrespective of older or newer movies, people wish to get entertained for about the same time (boredom threshold)\n",
    "\n",
    "\n",
    "<a id='conclusions'></a>\n",
    "## IV. Conclusions\n",
    "\n",
    "It is found that for a movie to be hit, it is likely to be around 110 minutes long, be in any one of these genres (Drama, Comedy, Thriller, Action, Adventure). Ofcourse, it needs the correct timing of the public, reviews, seasonal mood as well the cast & crew performance to make it a hit. Only 2777 movies were profitable but it could be attributed to lack of accurate budget or revenue data out of 3843 datapoints we started with (having non-zero budget, revenue). \n",
    "\n",
    "Limitations:\n",
    "1. We started with 10K records but reduced to about 3.5K records after our data cleaning process, particularly after removing the monetary columns with zero values. We had to settle for non zero values only because of the financial questions we set to find out, there by reducing or may be even skewing the results for non-financial questions (like popular genre or cast).\n",
    "2. Also we are unaware of how the popularity was derived as different audience can provide different ratings yet, only same type of audience usually get to vote mostly (internet savvy and/or young) so it can skew such datasets collected via online. So i completely taken out rating/popularity based questions merely based on them."
   ]
  },
  {
   "cell_type": "markdown",
   "metadata": {
    "collapsed": true
   },
   "source": [
    "**References:**\n",
    "\n",
    "https://medium.com/dunder-data/selecting-subsets-of-data-in-pandas-39e811c81a0c<br/>\n",
    "https://pandas.pydata.org/pandas-docs<br/>\n",
    "https://seaborn.pydata.org/tutorial/categorical.html<br/>\n",
    "https://udacity-reviews-uploads.s3.us-west-2.amazonaws.com/_attachments/33591/1530440836/new_chart.jpeg<br/>\n",
    "https://matplotlib.org/gallery/index.html<br/>\n",
    "http://pandas.pydata.org/pandas-docs/stable/groupby.html<br/>\n",
    "https://chrisalbon.com/python/data_wrangling/pandas_dataframe_count_values/<br/>\n",
    "https://pandas.pydata.org/pandas-docs/stable/generated/pandas.Series.map.html<br/>\n",
    "https://matplotlib.org/users/pyplot_tutorial.html<br/>\n"
   ]
  }
 ],
 "metadata": {
  "kernelspec": {
   "display_name": "Python 3",
   "language": "python",
   "name": "python3"
  },
  "language_info": {
   "codemirror_mode": {
    "name": "ipython",
    "version": 3
   },
   "file_extension": ".py",
   "mimetype": "text/x-python",
   "name": "python",
   "nbconvert_exporter": "python",
   "pygments_lexer": "ipython3",
   "version": "3.6.6"
  }
 },
 "nbformat": 4,
 "nbformat_minor": 2
}
